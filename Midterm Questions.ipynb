{
 "cells": [
  {
   "cell_type": "markdown",
   "metadata": {},
   "source": [
    "## Multiple Choice Concept Questions"
   ]
  },
  {
   "cell_type": "raw",
   "metadata": {},
   "source": [
    "1. Big Data Science requires:\n",
    "\n",
    "a) volume\n",
    "b) velocity\n",
    "c) variety\n",
    "d) all of the above\n",
    "\n",
    "Answer: (d) "
   ]
  },
  {
   "cell_type": "raw",
   "metadata": {},
   "source": [
    "2. Which of the following does NOT have an add or remove function?\n",
    "\n",
    "a) deque\n",
    "b) dictionary\n",
    "c) tuple\n",
    "d) set\n",
    "\n",
    "Answer: (c)"
   ]
  },
  {
   "cell_type": "raw",
   "metadata": {},
   "source": [
    "3. Which of the following correctly orders the BIG O complexity from most to least efficient?\n",
    "\n",
    "a) O(1) --> O(n) --> O(n^2)\n",
    "b) O(n) --> O(n^2) --> O(1)\n",
    "c) O(n^2) --> O(n) --> O(1)\n",
    "d) O(1) --> O(n^2) --> O(n)\n",
    "\n",
    "Answer: (a)"
   ]
  },
  {
   "cell_type": "raw",
   "metadata": {},
   "source": [
    "4. Match the following built-in data types with the correct description.\n",
    "\n",
    "a) stacks\t\t\t__ first-in first-out\n",
    "b) queues\t\t\t__ sequence types  \n",
    "c) lists, tuples\t__ double-ended queue\n",
    "d) deque\t\t\t__ last-in first-out\n",
    "\n",
    "Answer: b, c, d, a"
   ]
  },
  {
   "cell_type": "raw",
   "metadata": {},
   "source": [
    "5. What is NOT true about Raster Data?\n",
    "\n",
    "a) grid of fixed-size pixels\n",
    "b) if you want to cover more area, add more features\n",
    "c) if you want to cover more area, you need to add more rows or columns and indicate values\n",
    "d) when mixed pixels are assigned to a single value, precision is lost\n",
    "\n",
    "Answer: (b)"
   ]
  },
  {
   "cell_type": "raw",
   "metadata": {},
   "source": [
    "6. Which of the following is true about supervised learning?\n",
    "\n",
    "a) automate time-consuming or expensive manual tasks\n",
    "b) make predictions about the future\n",
    "c) needs labled data\n",
    "d) all of the above\n",
    "\n",
    "Answer: (d)"
   ]
  },
  {
   "cell_type": "raw",
   "metadata": {},
   "source": [
    "7.  Which is NOT a good case for A/B Testing?\n",
    "\n",
    "a) Matching algorithm for a dating app.\n",
    "b) Which color will make the user more likely to press a button?\n",
    "c) Testing the impact of different drugs (Pharmaceutical companies)\n",
    "d) Mobile games (incentivize users to spend more)\n",
    "\n",
    "Answer: (a)"
   ]
  },
  {
   "cell_type": "raw",
   "metadata": {},
   "source": [
    "8.  Which of the following types of filtering is a nonlinear technique used to remove noise from an image?\n",
    "\n",
    "a) Gaussian blur\n",
    "b) Median filter\n",
    "c) dilation and erosion\n",
    "d) custom filters\n",
    "\n",
    "Answer: (b)"
   ]
  },
  {
   "cell_type": "markdown",
   "metadata": {},
   "source": [
    "## True/False Questions"
   ]
  },
  {
   "cell_type": "raw",
   "metadata": {},
   "source": [
    "1. Data visualization is same as storytelling.\n",
    "\n",
    "Answer: False"
   ]
  },
  {
   "cell_type": "raw",
   "metadata": {},
   "source": [
    "2. Black and white images have pixel values of only 0 or 255.\n",
    "\n",
    "Answer: True"
   ]
  },
  {
   "cell_type": "raw",
   "metadata": {},
   "source": [
    "3. Google maps uses Mercator because of it's ability to preserve shape and distortion is minimal with close-up views (a 90 degree  left turn on a map is a 90 degree turn on the street you're driving down).\n",
    "\n",
    "Answer: True"
   ]
  },
  {
   "cell_type": "raw",
   "metadata": {},
   "source": [
    "4. Naming conventions for supervised learning:\n",
    "\n",
    "target variable = predictor variable = independent variable\n",
    "features = dependent variable = response variable\n",
    "\n",
    "Answer: False (swap target variable and features)"
   ]
  },
  {
   "cell_type": "raw",
   "metadata": {},
   "source": [
    "5. Artificial neural networks are inspired by neurons in our brains.\n",
    "\n",
    "Answer: True"
   ]
  },
  {
   "cell_type": "raw",
   "metadata": {},
   "source": [
    "6.  A/B Testing is used to imporve KPIs (Key Performance Indicators).\n",
    "\n",
    "Answer: True"
   ]
  },
  {
   "cell_type": "raw",
   "metadata": {},
   "source": [
    "7. The Perceptron is a multi-layer feedforward neural network.\n",
    "\n",
    "Answer: False"
   ]
  },
  {
   "cell_type": "markdown",
   "metadata": {},
   "source": [
    "## Short Answer DataCamp Questions"
   ]
  },
  {
   "cell_type": "markdown",
   "metadata": {},
   "source": [
    "#### 1. Using the digitis dataset, Train/Test split, Fit/Predict and predict Accuarcy"
   ]
  },
  {
   "cell_type": "code",
   "execution_count": 8,
   "metadata": {},
   "outputs": [
    {
     "name": "stdout",
     "output_type": "stream",
     "text": [
      "0.9833333333333333\n"
     ]
    }
   ],
   "source": [
    "# Import necessary modules\n",
    "from sklearn import datasets\n",
    "from sklearn.neighbors import KNeighborsClassifier\n",
    "from sklearn.model_selection import train_test_split\n",
    "\n",
    "# Load the digits dataset: digits\n",
    "digits = datasets.load_digits()\n",
    "\n",
    "# Create feature and target arrays\n",
    "X = digits.data\n",
    "y = digits.target\n",
    "\n",
    "# Split into training and test set (use 0.2 for test set size, and 42 for random state)\n",
    "X_train, X_test, y_train, y_test = train_test_split(X, y, test_size = 0.2, random_state=42, stratify=y)\n",
    "\n",
    "# Create a k-NN classifier with 7 neighbors: knn\n",
    "knn = KNeighborsClassifier(n_neighbors=7)\n",
    "\n",
    "# Fit the classifier to the training data\n",
    "knn.fit(X_train,y_train)\n",
    "\n",
    "# Print the accuracy\n",
    "print(knn.score(X_test, y_test))"
   ]
  },
  {
   "cell_type": "markdown",
   "metadata": {},
   "source": [
    "#### 2.  Using the digits recognition dataset, display digit 1010"
   ]
  },
  {
   "cell_type": "code",
   "execution_count": 6,
   "metadata": {},
   "outputs": [
    {
     "name": "stdout",
     "output_type": "stream",
     "text": [
      "dict_keys(['data', 'target', 'target_names', 'images', 'DESCR'])\n",
      "Optical Recognition of Handwritten Digits Data Set\n",
      "===================================================\n",
      "\n",
      "Notes\n",
      "-----\n",
      "Data Set Characteristics:\n",
      "    :Number of Instances: 5620\n",
      "    :Number of Attributes: 64\n",
      "    :Attribute Information: 8x8 image of integer pixels in the range 0..16.\n",
      "    :Missing Attribute Values: None\n",
      "    :Creator: E. Alpaydin (alpaydin '@' boun.edu.tr)\n",
      "    :Date: July; 1998\n",
      "\n",
      "This is a copy of the test set of the UCI ML hand-written digits datasets\n",
      "http://archive.ics.uci.edu/ml/datasets/Optical+Recognition+of+Handwritten+Digits\n",
      "\n",
      "The data set contains images of hand-written digits: 10 classes where\n",
      "each class refers to a digit.\n",
      "\n",
      "Preprocessing programs made available by NIST were used to extract\n",
      "normalized bitmaps of handwritten digits from a preprinted form. From a\n",
      "total of 43 people, 30 contributed to the training set and different 13\n",
      "to the test set. 32x32 bitmaps are divided into nonoverlapping blocks of\n",
      "4x4 and the number of on pixels are counted in each block. This generates\n",
      "an input matrix of 8x8 where each element is an integer in the range\n",
      "0..16. This reduces dimensionality and gives invariance to small\n",
      "distortions.\n",
      "\n",
      "For info on NIST preprocessing routines, see M. D. Garris, J. L. Blue, G.\n",
      "T. Candela, D. L. Dimmick, J. Geist, P. J. Grother, S. A. Janet, and C.\n",
      "L. Wilson, NIST Form-Based Handprint Recognition System, NISTIR 5469,\n",
      "1994.\n",
      "\n",
      "References\n",
      "----------\n",
      "  - C. Kaynak (1995) Methods of Combining Multiple Classifiers and Their\n",
      "    Applications to Handwritten Digit Recognition, MSc Thesis, Institute of\n",
      "    Graduate Studies in Science and Engineering, Bogazici University.\n",
      "  - E. Alpaydin, C. Kaynak (1998) Cascading Classifiers, Kybernetika.\n",
      "  - Ken Tang and Ponnuthurai N. Suganthan and Xi Yao and A. Kai Qin.\n",
      "    Linear dimensionalityreduction using relevance weighted LDA. School of\n",
      "    Electrical and Electronic Engineering Nanyang Technological University.\n",
      "    2005.\n",
      "  - Claudio Gentile. A New Approximate Maximal Margin Classification\n",
      "    Algorithm. NIPS. 2000.\n",
      "\n",
      "(1797, 8, 8)\n",
      "(1797, 64)\n"
     ]
    },
    {
     "data": {
      "image/png": "[encoded data removed]",
      "text/plain": [
       "<matplotlib.figure.Figure at 0x1f362064320>"
      ]
     },
     "metadata": {},
     "output_type": "display_data"
    }
   ],
   "source": [
    "# Import necessary modules\n",
    "from sklearn import datasets\n",
    "import matplotlib.pyplot as plt\n",
    "\n",
    "# Load the digits dataset: digits\n",
    "digits = datasets.load_digits()\n",
    "\n",
    "# Print the keys and DESCR of the dataset\n",
    "print(digits.keys())\n",
    "print(digits.DESCR)\n",
    "\n",
    "# Print the shape of the images and data keys\n",
    "print(digits.images.shape)\n",
    "print(digits.data.shape)\n",
    "\n",
    "#Display digit 1010\n",
    "plt.imshow(digits.images[1010], cmap=plt.cm.gray_r, interpolation='nearest')\n",
    "plt.show()"
   ]
  },
  {
   "cell_type": "markdown",
   "metadata": {},
   "source": [
    "#### 3. Using the DataFrame auto, plot higher-order regressions  "
   ]
  },
  {
   "cell_type": "raw",
   "metadata": {},
   "source": [
    "# Generate a scatter plot of 'weight' and 'mpg' using red circles\n",
    "plt.scatter(auto['weight'], auto['mpg'], label='data', color='red', marker='o')\n",
    "\n",
    "# Plot in blue a linear regression of order 1 between 'weight' and 'mpg'\n",
    "sns.regplot(x='weight', y='mpg', data=auto, color='blue', scatter=None, label='order 1')\n",
    "\n",
    "# Plot in green a linear regression of order 2 between 'weight' and 'mpg'\n",
    "sns.regplot(x='weight', y='mpg', data=auto, color='green', scatter=None, label='order 2', order=2)\n",
    "\n",
    "# Add a legend and display the plot\n",
    "plt.legend(loc='upper right')\n",
    "plt.show()"
   ]
  },
  {
   "cell_type": "markdown",
   "metadata": {},
   "source": [
    "#### 4. Do a word frequency on The Wizard of Oz"
   ]
  },
  {
   "cell_type": "code",
   "execution_count": 13,
   "metadata": {},
   "outputs": [
    {
     "name": "stderr",
     "output_type": "stream",
     "text": [
      "C:\\Users\\swluk\\Anaconda3\\lib\\site-packages\\bs4\\__init__.py:181: UserWarning: No parser was explicitly specified, so I'm using the best available HTML parser for this system (\"lxml\"). This usually isn't a problem, but if you run this code on another system, or in a different virtual environment, it may use a different parser and behave differently.\n",
      "\n",
      "The code that caused this warning is on line 193 of the file C:\\Users\\swluk\\Anaconda3\\lib\\runpy.py. To get rid of this warning, change code that looks like this:\n",
      "\n",
      " BeautifulSoup(YOUR_MARKUP})\n",
      "\n",
      "to this:\n",
      "\n",
      " BeautifulSoup(YOUR_MARKUP, \"lxml\")\n",
      "\n",
      "  markup_type=markup_type))\n"
     ]
    },
    {
     "name": "stdout",
     "output_type": "stream",
     "text": [
      "['i', 'me', 'my', 'myself', 'we', 'our', 'ours', 'ourselves', 'you', \"you're\"]\n"
     ]
    },
    {
     "data": {
      "image/png": "[encoded data removed]",
      "text/plain": [
       "<matplotlib.figure.Figure at 0x1f3649e0f28>"
      ]
     },
     "metadata": {},
     "output_type": "display_data"
    }
   ],
   "source": [
    "# Importing requests, BeautifulSoup and nltk\n",
    "import requests\n",
    "import nltk\n",
    "from bs4 import BeautifulSoup\n",
    "\n",
    "# Get the The Wonderful Wizard of Oz HTML\n",
    "r = requests.get(\"https://www.gutenberg.org/files/55/55-h/55-h.htm\")\n",
    "\n",
    "# Set the correct text encoding of the HTML page\n",
    "r.encoding = 'urf-8'\n",
    "\n",
    "# Extract the HTML from the request object\n",
    "html = r.text\n",
    "\n",
    "# Creat3 a BeautifulSoup object from the HTML\n",
    "soup = BeautifulSoup(html)\n",
    "\n",
    "# Get the text out of the soup\n",
    "text = soup.get_text()\n",
    "\n",
    "# Creating a tokenizer\n",
    "tokenizer = nltk.tokenize.RegexpTokenizer('\\w+')\n",
    "\n",
    "# Tokenizing the text\n",
    "tokens = tokenizer.tokenize(text)\n",
    "\n",
    "# A new list to hold the lowercased words\n",
    "words = []\n",
    "\n",
    "# Looping through the tokens and make them lower case\n",
    "for word in tokens:\n",
    "    words.append(word.lower())\n",
    "    \n",
    "# Getting the English stop words from nltk\n",
    "sw = nltk.corpus.stopwords.words('english')\n",
    "\n",
    "# Printing out the first 10 stop words\n",
    "print(sw[:10])\n",
    "\n",
    "# A new list to hold The Wonderful Wizard of Oz with no stop words\n",
    "words_ns = []\n",
    "\n",
    "# Appending to words_ns all words that are in words but not in sw\n",
    "for word in words:\n",
    "    if word not in sw:\n",
    "        words_ns.append(word)\n",
    "        \n",
    "# This command displays figures inline\n",
    "%matplotlib inline\n",
    "\n",
    "# Creating the word frequency distribution\n",
    "freqdist = nltk.FreqDist(words_ns)\n",
    "\n",
    "# Plotting the word frequency distribution\n",
    "freqdist.plot(25)        "
   ]
  },
  {
   "cell_type": "markdown",
   "metadata": {},
   "source": [
    "#### 5. Dropping missing data"
   ]
  },
  {
   "cell_type": "raw",
   "metadata": {},
   "source": [
    " # Convert '?' to NaN\n",
    "df[df == '?'] = np.NaN\n",
    "\n",
    "# Print the number of NaNs\n",
    "print(df.isnull().sum())\n",
    "\n",
    "# Print shape of original DataFrame\n",
    "print(\"Shape of Original DataFrame: {}\".format(df.shape))\n",
    "\n",
    "# Drop missing values and print shape of new DataFrame\n",
    "df = df.dropna()\n",
    "\n",
    "# Print shape of new DataFrame\n",
    "print(\"Shape of DataFrame After Dropping All Rows with Missing Values: {}\".format(df.shape))"
   ]
  },
  {
   "cell_type": "markdown",
   "metadata": {},
   "source": [
    "## Data Set Mini Question"
   ]
  },
  {
   "cell_type": "raw",
   "metadata": {},
   "source": []
  }
 ],
 "metadata": {
  "kernelspec": {
   "display_name": "Python 3",
   "language": "python",
   "name": "python3"
  },
  "language_info": {
   "codemirror_mode": {
    "name": "ipython",
    "version": 3
   },
   "file_extension": ".py",
   "mimetype": "text/x-python",
   "name": "python",
   "nbconvert_exporter": "python",
   "pygments_lexer": "ipython3",
   "version": "3.6.4"
  }
 },
 "nbformat": 4,
 "nbformat_minor": 2
}
